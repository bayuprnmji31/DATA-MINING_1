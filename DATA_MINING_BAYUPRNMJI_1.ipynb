{
  "nbformat": 4,
  "nbformat_minor": 0,
  "metadata": {
    "colab": {
      "provenance": [],
      "authorship_tag": "ABX9TyO758LHNHA2+SZsmIQZG3aN",
      "include_colab_link": true
    },
    "kernelspec": {
      "name": "python3",
      "display_name": "Python 3"
    },
    "language_info": {
      "name": "python"
    }
  },
  "cells": [
    {
      "cell_type": "markdown",
      "metadata": {
        "id": "view-in-github",
        "colab_type": "text"
      },
      "source": [
        "<a href=\"https://colab.research.google.com/github/bayuprnmji31/DATA-MINING_1/blob/main/DATA_MINING_BAYUPRNMJI_1.ipynb\" target=\"_parent\"><img src=\"https://colab.research.google.com/assets/colab-badge.svg\" alt=\"Open In Colab\"/></a>"
      ]
    },
    {
      "cell_type": "markdown",
      "source": [
        "# **Pemanfaatan Pengaruh YOUTUBE dalam Strategi Pemasaran Selama 1 Bulan (SEPTEMBER 2022)**\n"
      ],
      "metadata": {
        "id": "V2OPI008gnk0"
      }
    },
    {
      "cell_type": "markdown",
      "source": [
        "## **Business Understanding**"
      ],
      "metadata": {
        "id": "QBbPhbXKiW5K"
      }
    },
    {
      "cell_type": "markdown",
      "source": [
        "Business Objective\n",
        "___________________\n",
        "\n"
      ],
      "metadata": {
        "id": "ph1G6dbPip0a"
      }
    },
    {
      "cell_type": "markdown",
      "source": [
        "Tujuan bisnis dari dataset ini adalah untuk mengoptimalkan pengaruh YouTube dalam rencana pemasaran. Dengan melihat bagaimana YouTube mempengaruhi strategi pemasaran perusahaan, fokus utama peningkatan keterlibatan dan jangkauan, peningkatan jumlah pelanggan channel YouTube, peningkatan penjualan melalui tautan afiliasi, dan analisis kinerja konten."
      ],
      "metadata": {
        "id": "qyZkZpBYi8HB"
      }
    },
    {
      "cell_type": "markdown",
      "source": [
        "Assess Situation\n",
        "___________________"
      ],
      "metadata": {
        "id": "SAtEEs9Si0Tp"
      }
    },
    {
      "cell_type": "markdown",
      "source": [
        "1. Menganalisis atau melihat kondisi pasar dan persaingan industri dalam produk atau layanan dalam youtube.\n",
        "2. Menganalisis siapa target audiens dari sebuah kampanye youtube, apakah dengan spesifik berdasarkan usia, minat atau demografi lainnya."
      ],
      "metadata": {
        "id": "ZLUobWXrtBOd"
      }
    },
    {
      "cell_type": "markdown",
      "source": [
        "\n",
        "Data Mining Goals\n",
        "_________________"
      ],
      "metadata": {
        "id": "BnpQweqXxbAZ"
      }
    },
    {
      "cell_type": "markdown",
      "source": [],
      "metadata": {
        "id": "aGDrnFeN0oXx"
      }
    },
    {
      "cell_type": "markdown",
      "source": [
        "1. Pengumpulan Data pengguna Youtube\n",
        "<br>\n",
        "    Mengumpulkan data mengenai perilaku penonton youtube, termasuk prefrensi konten, waktu penonton, dan interaksi tautan afiliasi.\n",
        "2. Evaluasi\n",
        "<br>\n",
        "    Menilai kinerja dan popularitas pengaruh Youtube yang dipilih melalui data jumlah subscribers, tingkat interaksi, dan sejarah kerjasama."
      ],
      "metadata": {
        "id": "qitbRZaYxe4Y"
      }
    },
    {
      "cell_type": "markdown",
      "source": [
        "Project Plan\n",
        "____________"
      ],
      "metadata": {
        "id": "C6ubcRWIyC2k"
      }
    },
    {
      "cell_type": "markdown",
      "source": [
        "Untuk kita untuk mengimplementasikan hasil data yang kita miliki, dengan beberapa rencana project sebagai berikut:\n",
        "\n",
        "1. Pemilihan Pengaruh, menganalisis berbagai pengaruh YouTube dan memilih\n",
        "yang sesuai dengan target audiens dan nilai merek perusahaan.\n",
        "\n",
        "2. Konten Kreatif, mengembangkan konten kreatif yang menarik, informatif, dan sesuai dengan kebutuhan audiens YouTube.\n",
        "\n",
        "3. Peluncuran dan Promosi, menentukan jadwal peluncuran konten, strategi promosi, dan penggunaan media sosial untuk mendukung kampanye.\n",
        "\n",
        "4. Analisis Real-time, melakukan pemantauan real-time terhadap kinerja kampanye, merespon umpan balik, dan mengoptimalkan strategi jika diperlukan\n",
        "\n",
        "5. Evaluasi Akhir dan Pembelajaran,\n",
        "melakukan evaluasi akhir terhadap keseluruhan kampanye, mengidentifikasi apa yang berhasil dan memahami aspek yang dapat ditingkatkan untuk kampanye selanjutnya."
      ],
      "metadata": {
        "id": "bGRG2Q8DyIrV"
      }
    }
  ]
}